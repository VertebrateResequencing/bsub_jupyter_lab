{
 "cells": [
  {
   "cell_type": "code",
   "execution_count": 36,
   "metadata": {},
   "outputs": [],
   "source": [
    "# pre-main imports: \n",
    "import itertools\n",
    "import logging\n",
    "import pipeop\n",
    "from logdecorator import log_on_start, log_on_end, log_on_error, log_exception\n",
    "import wrapt\n",
    "from fabric import Connection\n",
    "from tqdm.notebook import tqdm #from tqdm import tqdm if not in notebook"
   ]
  },
  {
   "cell_type": "code",
   "execution_count": 37,
   "metadata": {},
   "outputs": [],
   "source": [
    "# main-imports: custom decorators and functions\n",
    "import shared_variables\n",
    "shared_variables.enabled_wrapt_decorators = True # apply or not custom core decorators\n",
    "from core_decorators import *\n",
    "from core_functions import *"
   ]
  },
  {
   "cell_type": "markdown",
   "metadata": {},
   "source": [
    "### project specific code"
   ]
  },
  {
   "cell_type": "code",
   "execution_count": null,
   "metadata": {},
   "outputs": [],
   "source": []
  },
  {
   "cell_type": "code",
   "execution_count": null,
   "metadata": {},
   "outputs": [],
   "source": []
  },
  {
   "cell_type": "code",
   "execution_count": 38,
   "metadata": {},
   "outputs": [
    {
     "data": {
      "text/plain": [
       "<function core_functions.subset_generator(a_generator)>"
      ]
     },
     "execution_count": 38,
     "metadata": {},
     "output_type": "execute_result"
    }
   ],
   "source": [
    "subset_generator"
   ]
  },
  {
   "cell_type": "markdown",
   "metadata": {},
   "source": [
    "### git notebook"
   ]
  },
  {
   "cell_type": "code",
   "execution_count": 41,
   "metadata": {},
   "outputs": [
    {
     "name": "stdout",
     "output_type": "stream",
     "text": [
      "Already up-to-date.\n"
     ]
    }
   ],
   "source": [
    "# upload notebook to gitlab/github:\n",
    "\n",
    "to_save = '*.ipynb *.py'\n",
    "#current_dir=os.getcwd()\n",
    "git_save_dir=os.getcwd()\n",
    "\n",
    "c = Connection('mercury@hgi-farm5')\n",
    "with c.cd(git_save_dir):\n",
    "    # github repo requires using the correct deploy key:\n",
    "    c.run('git config remote.origin.url git@gn5.githostname_github_bsub_jupyter_lab:wtsi-hgi/bsub_jupyter_lab.git')\n",
    "    c.run('git config --local user.name gn5')\n",
    "    c.run('git config --local user.email gn5@sanger.ac.uk')\n",
    "    # now can pull:\n",
    "    c.run('git pull')\n",
    "    # c.run('cp ' + current_dir+'/'+nb_name + ' ' + git_save_dir+'/')\n",
    "    #c.run('ls -ltra')"
   ]
  },
  {
   "cell_type": "code",
   "execution_count": 42,
   "metadata": {},
   "outputs": [
    {
     "name": "stdout",
     "output_type": "stream",
     "text": [
      "[master dede260] auto\n",
      " 1 file changed, 9 insertions(+), 27 deletions(-)\n"
     ]
    },
    {
     "name": "stderr",
     "output_type": "stream",
     "text": [
      "To gn5.githostname_github_bsub_jupyter_lab:wtsi-hgi/bsub_jupyter_lab.git\n",
      "   1f938a9..dede260  master -> master\n"
     ]
    },
    {
     "name": "stdout",
     "output_type": "stream",
     "text": [
      "Branch 'master' set up to track remote branch 'master' from 'origin'.\n"
     ]
    }
   ],
   "source": [
    "with c.cd(git_save_dir):\n",
    "    # now can add, commit and push files:\n",
    "    c.run('git add ' + to_save)\n",
    "    c.run('git commit -m auto || true')\n",
    "    c.run('git push -u origin')"
   ]
  },
  {
   "cell_type": "markdown",
   "metadata": {},
   "source": [
    "#### how ssh key works:"
   ]
  },
  {
   "cell_type": "markdown",
   "metadata": {},
   "source": [
    "the `gn5.githostname_github_bsub_jupyter_lab` hostname serves my ssh key because:\n",
    "```\n",
    "cat /nfs/users/nfs_m/mercury/.ssh/config\n",
    "Host gn5.githostname_github_bsub_jupyter_lab # used by gn5 as deploy key for github repo wtsi-hgi/bsub_jupyter_lab\n",
    "    AddKeysToAgent yes                                                                              \n",
    "    Hostname github.com                                                                             \n",
    "    User git                                                                                        \n",
    "    IdentityFile ~/.ssh/id_rsa_gn5_github_bsub_jupyter_lab            \n",
    "...    \n",
    "```"
   ]
  },
  {
   "cell_type": "markdown",
   "metadata": {},
   "source": [
    "### install lib from farm5-head1"
   ]
  },
  {
   "cell_type": "code",
   "execution_count": 61,
   "metadata": {},
   "outputs": [
    {
     "name": "stdout",
     "output_type": "stream",
     "text": [
      "farm5-head1\n",
      "/software/hgi/installs/anaconda3/envs/nextflow20/bin/pip\n",
      "/software/hgi/installs/anaconda3/envs/nextflow20/bin/python\n",
      "pip 19.3.1 from /software/hgi/installs/anaconda3/envs/nextflow20/lib/python3.7/site-packages/pip (python 3.7)\n",
      "Python 3.7.3\n",
      "Collecting backports.functools-lru-cache\n",
      "  Using cached https://files.pythonhosted.org/packages/da/d1/080d2bb13773803648281a49e3918f65b31b7beebf009887a529357fd44a/backports.functools_lru_cache-1.6.1-py2.py3-none-any.whl\n",
      "Installing collected packages: backports.functools-lru-cache\n",
      "Successfully installed backports.functools-lru-cache-1.6.1\n",
      "Obtaining file:///lustre/scratch118/humgen/resources/conda_envs/nextflow20_libs/python/integrationCurator\n",
      "Requirement already satisfied: urllib3>=1.15 in /software/hgi/installs/anaconda3/envs/nextflow20/lib/python3.7/site-packages (from integration-curator===default-released) (1.25.8)\n",
      "Requirement already satisfied: six>=1.10 in /software/hgi/installs/anaconda3/envs/nextflow20/lib/python3.7/site-packages (from integration-curator===default-released) (1.12.0)\n",
      "Requirement already satisfied: certifi in /software/hgi/installs/anaconda3/envs/nextflow20/lib/python3.7/site-packages (from integration-curator===default-released) (2020.4.5.1)\n",
      "Requirement already satisfied: python-dateutil in /software/hgi/installs/anaconda3/envs/nextflow20/lib/python3.7/site-packages (from integration-curator===default-released) (2.8.0)\n",
      "Installing collected packages: integration-curator\n",
      "  Found existing installation: integration-curator default-released\n",
      "    Uninstalling integration-curator-default-released:\n",
      "      Successfully uninstalled integration-curator-default-released\n",
      "  Running setup.py develop for integration-curator\n",
      "Successfully installed integration-curator\n"
     ]
    }
   ],
   "source": [
    "c_head1 = Connection('mercury@farm5-head1')\n",
    "with c_head1.cd('/lustre/scratch118/humgen/resources/conda_envs/nextflow20_libs'): # ssh to farm5-head1 with fabric Connection()\n",
    "    #c_head1.run('ls -ltra')\n",
    "    c_head1.run('hostname')\n",
    "    with c_head1.prefix('conda activate nextflow20'): # activate conda env with fabric prefix()\n",
    "        #c_head1.run('conda info --envs') # to check that correct conda env is loaded\n",
    "        #c_head1.run('which pip')\n",
    "        #c_head1.run('which python')\n",
    "        #c_head1.run('pip --version')\n",
    "        #c_head1.run('python --version')\n",
    "\n",
    "        # install genestack api_clients.zip\n",
    "        #### run only once: c_head1.run('cp /software/hgi/installs/genestack/api_clients.zip .')\n",
    "        #### run only once: c_head1.run('unzip api_clients.zip -d .') \n",
    "        #### run only once : c_head1.run('pip install backports.functools-lru-cache')\n",
    "        for entry in scandir(os.cwd()):\n",
    "            if entry.is_dir(follow_symlinks=False):\n",
    "                print(entry)\n",
    "        #### c_head1.run('pip install -e \"/lustre/scratch118/humgen/resources/conda_envs/nextflow20_libs/python/integrationCurator\"')"
   ]
  },
  {
   "cell_type": "code",
   "execution_count": null,
   "metadata": {},
   "outputs": [],
   "source": [
    "# check taht install worked\n"
   ]
  }
 ],
 "metadata": {
  "kernelspec": {
   "display_name": "Python 3",
   "language": "python",
   "name": "python3"
  },
  "language_info": {
   "codemirror_mode": {
    "name": "ipython",
    "version": 3
   },
   "file_extension": ".py",
   "mimetype": "text/x-python",
   "name": "python",
   "nbconvert_exporter": "python",
   "pygments_lexer": "ipython3",
   "version": "3.7.3"
  }
 },
 "nbformat": 4,
 "nbformat_minor": 4
}
