{
 "cells": [
  {
   "cell_type": "code",
   "execution_count": 1,
   "metadata": {},
   "outputs": [],
   "source": [
    "# pre-main imports: \n",
    "import itertools\n",
    "import logging\n",
    "import pipeop\n",
    "from logdecorator import log_on_start, log_on_end, log_on_error, log_exception\n",
    "import wrapt\n",
    "from fabric import Connection\n",
    "from tqdm.notebook import tqdm #from tqdm import tqdm if not in notebook"
   ]
  },
  {
   "cell_type": "code",
   "execution_count": 2,
   "metadata": {},
   "outputs": [],
   "source": [
    "# main code\n",
    "\n",
    "# main-imports: custom decorators and functions\n",
    "import shared_variables\n",
    "shared_variables.enabled_wrapt_decorators = True # apply or not custom core decorators\n",
    "from core_decorators import *\n",
    "from core_functions import *"
   ]
  },
  {
   "cell_type": "code",
   "execution_count": 3,
   "metadata": {},
   "outputs": [],
   "source": [
    "# project specific code\n"
   ]
  },
  {
   "cell_type": "code",
   "execution_count": null,
   "metadata": {},
   "outputs": [],
   "source": []
  },
  {
   "cell_type": "code",
   "execution_count": null,
   "metadata": {},
   "outputs": [],
   "source": []
  },
  {
   "cell_type": "code",
   "execution_count": 4,
   "metadata": {},
   "outputs": [
    {
     "data": {
      "text/plain": [
       "<function core_functions.subset_generator(a_generator)>"
      ]
     },
     "execution_count": 4,
     "metadata": {},
     "output_type": "execute_result"
    }
   ],
   "source": [
    "subset_generator"
   ]
  },
  {
   "cell_type": "markdown",
   "metadata": {},
   "source": [
    "### git notebook"
   ]
  },
  {
   "cell_type": "code",
   "execution_count": 5,
   "metadata": {},
   "outputs": [
    {
     "name": "stdout",
     "output_type": "stream",
     "text": [
      "Already up-to-date.\n",
      "total 36\n",
      "-rw-r--r-- 1 mercury hgi   32 Jul 16 14:24 shared_variables.py\n",
      "-rw-r--r-- 1 mercury hgi 1124 Jul 16 14:24 core_functions.py\n",
      "-rw-r--r-- 1 mercury hgi  457 Jul 16 14:24 core_decorators.py\n",
      "drwxr-sr-x 9 mercury hgi 4096 Jul 21 11:34 ..\n",
      "drwxr-sr-x 2 mercury hgi 4096 Jul 21 11:34 .ipynb_checkpoints\n",
      "drwxr-sr-x 2 mercury hgi 4096 Jul 21 11:35 __pycache__\n",
      "-rw-r--r-- 1 mercury hgi 4100 Jul 21 11:47 template_project.ipynb\n",
      "drwxr-sr-x 4 mercury hgi 4096 Jul 21 11:47 .\n"
     ]
    }
   ],
   "source": [
    "# upload notebook to gitlab/github:\n",
    "\n",
    "to_save = '*.ipynb *.py'\n",
    "#current_dir=os.getcwd()\n",
    "git_save_dir=os.getcwd()\n",
    "\n",
    "c = Connection('mercury@hgi-farm5')\n",
    "with c.cd(git_save_dir):\n",
    "    c.run('git pull')\n",
    "    # c.run('cp ' + current_dir+'/'+nb_name + ' ' + git_save_dir+'/')\n",
    "    c.run('ls -ltra')"
   ]
  },
  {
   "cell_type": "code",
   "execution_count": null,
   "metadata": {},
   "outputs": [],
   "source": [
    "with c.cd(git_save_dir):\n",
    "    c.run('git add ' + to_save)\n",
    "    c.run('git commit -m auto')\n",
    "    c.run('git push -u origin')"
   ]
  },
  {
   "cell_type": "code",
   "execution_count": 5,
   "metadata": {},
   "outputs": [
    {
     "data": {
      "text/plain": [
       "'/lustre/scratch118/humgen/hgi/users/mercury/scratch/ibdwesgenestack/gn5/bsub_jupyter_lab/template'"
      ]
     },
     "execution_count": 5,
     "metadata": {},
     "output_type": "execute_result"
    }
   ],
   "source": [
    "os.getcwd()"
   ]
  },
  {
   "cell_type": "code",
   "execution_count": null,
   "metadata": {},
   "outputs": [],
   "source": []
  }
 ],
 "metadata": {
  "kernelspec": {
   "display_name": "Python 3",
   "language": "python",
   "name": "python3"
  },
  "language_info": {
   "codemirror_mode": {
    "name": "ipython",
    "version": 3
   },
   "file_extension": ".py",
   "mimetype": "text/x-python",
   "name": "python",
   "nbconvert_exporter": "python",
   "pygments_lexer": "ipython3",
   "version": "3.7.3"
  }
 },
 "nbformat": 4,
 "nbformat_minor": 4
}
