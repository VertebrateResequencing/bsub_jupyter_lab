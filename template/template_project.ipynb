{
 "cells": [
  {
   "cell_type": "code",
   "execution_count": 1,
   "metadata": {},
   "outputs": [],
   "source": [
    "# pre-main imports: \n",
    "import itertools\n",
    "import logging\n",
    "import pipeop\n",
    "from logdecorator import log_on_start, log_on_end, log_on_error, log_exception\n",
    "import wrapt\n",
    "from fabric import Connection\n",
    "from tqdm.notebook import tqdm #from tqdm import tqdm if not in notebook"
   ]
  },
  {
   "cell_type": "code",
   "execution_count": 2,
   "metadata": {},
   "outputs": [],
   "source": [
    "# main code\n",
    "\n",
    "# main-imports: custom decorators and functions\n",
    "import shared_variables\n",
    "shared_variables.enabled_wrapt_decorators = True # apply or not custom core decorators\n",
    "from core_decorators import *\n",
    "from core_functions import *"
   ]
  },
  {
   "cell_type": "code",
   "execution_count": 3,
   "metadata": {},
   "outputs": [],
   "source": [
    "# project specific code\n"
   ]
  },
  {
   "cell_type": "code",
   "execution_count": null,
   "metadata": {},
   "outputs": [],
   "source": []
  },
  {
   "cell_type": "code",
   "execution_count": null,
   "metadata": {},
   "outputs": [],
   "source": []
  },
  {
   "cell_type": "code",
   "execution_count": 4,
   "metadata": {},
   "outputs": [
    {
     "data": {
      "text/plain": [
       "<function core_functions.subset_generator(a_generator)>"
      ]
     },
     "execution_count": 4,
     "metadata": {},
     "output_type": "execute_result"
    }
   ],
   "source": [
    "subset_generator"
   ]
  },
  {
   "cell_type": "markdown",
   "metadata": {},
   "source": [
    "### git notebook"
   ]
  },
  {
   "cell_type": "code",
   "execution_count": 13,
   "metadata": {},
   "outputs": [
    {
     "name": "stdout",
     "output_type": "stream",
     "text": [
      "Already up-to-date.\n",
      "total 44\n",
      "-rw-r--r-- 1 mercury hgi    32 Jul 16 14:24 shared_variables.py\n",
      "-rw-r--r-- 1 mercury hgi  1124 Jul 16 14:24 core_functions.py\n",
      "-rw-r--r-- 1 mercury hgi   457 Jul 16 14:24 core_decorators.py\n",
      "drwxr-sr-x 9 mercury hgi  4096 Jul 21 11:34 ..\n",
      "drwxr-sr-x 2 mercury hgi  4096 Jul 21 11:34 .ipynb_checkpoints\n",
      "drwxr-sr-x 2 mercury hgi  4096 Jul 21 11:35 __pycache__\n",
      "-rw-r--r-- 1 mercury hgi 15281 Jul 21 12:14 template_project.ipynb\n",
      "drwxr-sr-x 4 mercury hgi  4096 Jul 21 12:14 .\n"
     ]
    }
   ],
   "source": [
    "# upload notebook to gitlab/github:\n",
    "\n",
    "to_save = '*.ipynb *.py'\n",
    "#current_dir=os.getcwd()\n",
    "git_save_dir=os.getcwd()\n",
    "\n",
    "c = Connection('mercury@hgi-farm5')\n",
    "with c.cd(git_save_dir):\n",
    "    # github repo requires setting my farm ssh credentials:\n",
    "    c.run('git config remote.origin.url git@gn5.githostname:wtsi-hgi/bsub_jupyter_lab.git')\n",
    "    c.run('git config --local user.name gn5')\n",
    "    c.run('git config --local user.email gn5@sanger.ac.uk')\n",
    "    # now can pull:\n",
    "    c.run('git pull')\n",
    "    # c.run('cp ' + current_dir+'/'+nb_name + ' ' + git_save_dir+'/')\n",
    "    c.run('ls -ltra')"
   ]
  },
  {
   "cell_type": "code",
   "execution_count": 19,
   "metadata": {},
   "outputs": [
    {
     "name": "stdout",
     "output_type": "stream",
     "text": [
      "[master fc0beb3] auto\n",
      " 1 file changed, 53 insertions(+), 35 deletions(-)\n"
     ]
    }
   ],
   "source": [
    "with c.cd(git_save_dir):\n",
    "    # github repo requires setting my farm ssh credentials:\n",
    "    c.run('git config remote.origin.url git@gn5.githostname:wtsi-hgi/bsub_jupyter_lab.git')\n",
    "    c.run('git config --local user.name gn5')\n",
    "    c.run('git config --local user.email gn5@sanger.ac.uk')\n",
    "    # now can add, commit and push files:\n",
    "    c.run('git add ' + to_save)\n",
    "    c.run('git commit -m auto || true')\n",
    "    #c.run('git push -u origin')"
   ]
  },
  {
   "cell_type": "code",
   "execution_count": 18,
   "metadata": {},
   "outputs": [
    {
     "name": "stdout",
     "output_type": "stream",
     "text": [
      "On branch master\n",
      "Your branch is ahead of 'origin/master' by 4 commits.\n",
      "  (use \"git push\" to publish your local commits)\n",
      "\n",
      "Changes not staged for commit:\n",
      "\tmodified:   template_project.ipynb\n",
      "\n",
      "Untracked files:\n",
      "\t../.RData\n",
      "\t../.ipynb_checkpoints/\n",
      "\t../Untitled.ipynb\n",
      "\t../Untitled1.ipynb\n",
      "\t../Untitled2.ipynb\n",
      "\t../Untitled4.ipynb\n",
      "\t../__pycache__/\n",
      "\t../core_decorators.py\n",
      "\t../core_functions.py\n",
      "\t../genestack_python_api/\n",
      "\t../jupyter_lab.log\n",
      "\t../lab/\n",
      "\t../migrated\n",
      "\t../mosdepth_format_to_genestack_import.ipynb\n",
      "\t../nohup.out\n",
      "\t../odm_R.ipynb\n",
      "\t../shared_variables.py\n",
      "\t../start.sh\n",
      "\t.ipynb_checkpoints/\n",
      "\t__pycache__/\n",
      "\t../template_project.ipynb\n",
      "\n",
      "no changes added to commit\n"
     ]
    }
   ],
   "source": [
    "with c.cd(git_save_dir):\n",
    "    c.run('git push -u origin')"
   ]
  },
  {
   "cell_type": "markdown",
   "metadata": {},
   "source": [
    "the `gn5.githostname` hostname serves my ssh key because:\n",
    "```\n",
    "cat /nfs/users/nfs_m/mercury/.ssh/config\n",
    "Host gn5.githostname\n",
    "    Hostname github.com\n",
    "    User git\n",
    "    IdentityFile ~/.ssh/id_ed25519\n",
    "...    \n",
    "```"
   ]
  },
  {
   "cell_type": "code",
   "execution_count": null,
   "metadata": {},
   "outputs": [],
   "source": []
  }
 ],
 "metadata": {
  "kernelspec": {
   "display_name": "Python 3",
   "language": "python",
   "name": "python3"
  },
  "language_info": {
   "codemirror_mode": {
    "name": "ipython",
    "version": 3
   },
   "file_extension": ".py",
   "mimetype": "text/x-python",
   "name": "python",
   "nbconvert_exporter": "python",
   "pygments_lexer": "ipython3",
   "version": "3.7.3"
  }
 },
 "nbformat": 4,
 "nbformat_minor": 4
}
