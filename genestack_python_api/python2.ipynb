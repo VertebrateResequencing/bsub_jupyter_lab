{
 "cells": [
  {
   "cell_type": "code",
   "execution_count": 1,
   "metadata": {},
   "outputs": [],
   "source": [
    "import integration_curator"
   ]
  },
  {
   "cell_type": "code",
   "execution_count": 2,
   "metadata": {},
   "outputs": [
    {
     "data": {
      "text/plain": [
       "<module 'integration_curator' from '/lustre/scratch118/humgen/hgi/users/mercury/scratch/ibdwesgenestack/gn5/python/integrationCurator/integration_curator/__init__.pyc'>"
      ]
     },
     "execution_count": 2,
     "metadata": {},
     "output_type": "execute_result"
    }
   ],
   "source": [
    "integration_curator"
   ]
  },
  {
   "cell_type": "code",
   "execution_count": 3,
   "metadata": {},
   "outputs": [
    {
     "name": "stdout",
     "output_type": "stream",
     "text": [
      "Python version\n",
      "2.7.15 | packaged by conda-forge | (default, Mar  5 2020, 14:56:06) \n",
      "[GCC 7.3.0]\n",
      "Version info.\n",
      "sys.version_info(major=2, minor=7, micro=15, releaselevel='final', serial=0)\n"
     ]
    }
   ],
   "source": [
    "import sys\n",
    "print(\"Python version\")\n",
    "print (sys.version)\n",
    "print(\"Version info.\")\n",
    "print (sys.version_info)"
   ]
  },
  {
   "cell_type": "markdown",
   "metadata": {},
   "source": [
    "## install API"
   ]
  },
  {
   "cell_type": "code",
   "execution_count": null,
   "metadata": {},
   "outputs": [],
   "source": [
    "from fabric import Connection \n",
    "\n",
    "c = Connection('mercury@hgi-farm5')\n",
    "with c.cd('/lustre/scratch118/humgen/hgi/users/mercury/scratch'):\n",
    "    c.run('cp /software/hgi/installs/genestack/api_clients.zip .')\n",
    "    c.run('unzip api_clients.zip')\n",
    "    c.run('ls -ltra')"
   ]
  },
  {
   "cell_type": "code",
   "execution_count": null,
   "metadata": {},
   "outputs": [],
   "source": [
    "# pip install backports.functools-lru-cache\n",
    "# pip install \n",
    "# (nextflow20) mercury@farm5-head1 ~$ \n",
    "pip install -e \"/lustre/scratch118/humgen/hgi/users/mercury/scratch/ibdwesgenestack/gn5/python/integrationUser\"\n",
    "\n",
    "\n"
   ]
  }
 ],
 "metadata": {
  "kernelspec": {
   "display_name": "Python 2.7.15",
   "language": "python",
   "name": "py2"
  },
  "language_info": {
   "codemirror_mode": {
    "name": "ipython",
    "version": 2
   },
   "file_extension": ".py",
   "mimetype": "text/x-python",
   "name": "python",
   "nbconvert_exporter": "python",
   "pygments_lexer": "ipython2",
   "version": "2.7.15"
  }
 },
 "nbformat": 4,
 "nbformat_minor": 4
}
